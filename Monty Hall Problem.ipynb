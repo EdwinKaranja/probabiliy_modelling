{
 "cells": [
  {
   "cell_type": "markdown",
   "id": "a912dbc5-2335-46fd-8dc9-ac5ff8b6a952",
   "metadata": {},
   "source": [
    "## The Monty Hall Problem\n",
    "\n",
    "The Monty-Hall probability problem is a probabability question which is posited in this form\n",
    "\n",
    "\"Imagine you're on a game show, and there are three doors. Behind one door is a car, and behind the other two are goats. You pick a door, say Door 1, and the host, who knows what's behind each door, opens another door, say Door 3, revealing a goat. Now, the host gives you a choice: stick with your original choice or switch to the other unopened door, Door 2. What do you do, and why?\"\n",
    "\n",
    "By designing an experiment with repeated trials, it is possible to see if the probabiliy of success 'shifts' to the other door when the host opens an empty door and if the geust in the game show should also change their choice."
   ]
  },
  {
   "cell_type": "code",
   "execution_count": 23,
   "id": "c1548885-0f52-400f-81f4-9631142ce192",
   "metadata": {},
   "outputs": [],
   "source": [
    "import seaborn as sns\n",
    "import pandas as pd\n",
    "import random\n",
    "import matplotlib.pyplot as plt"
   ]
  },
  {
   "cell_type": "code",
   "execution_count": 31,
   "id": "98a992be-72d4-4499-9e1a-5167df637746",
   "metadata": {},
   "outputs": [
    {
     "data": {
      "text/html": [
       "<div>\n",
       "<style scoped>\n",
       "    .dataframe tbody tr th:only-of-type {\n",
       "        vertical-align: middle;\n",
       "    }\n",
       "\n",
       "    .dataframe tbody tr th {\n",
       "        vertical-align: top;\n",
       "    }\n",
       "\n",
       "    .dataframe thead th {\n",
       "        text-align: right;\n",
       "    }\n",
       "</style>\n",
       "<table border=\"1\" class=\"dataframe\">\n",
       "  <thead>\n",
       "    <tr style=\"text-align: right;\">\n",
       "      <th></th>\n",
       "      <th>repetitions</th>\n",
       "      <th>probabilities</th>\n",
       "    </tr>\n",
       "  </thead>\n",
       "  <tbody>\n",
       "    <tr>\n",
       "      <th>0</th>\n",
       "      <td>0</td>\n",
       "      <td>1.000000</td>\n",
       "    </tr>\n",
       "    <tr>\n",
       "      <th>1</th>\n",
       "      <td>0</td>\n",
       "      <td>0.500000</td>\n",
       "    </tr>\n",
       "    <tr>\n",
       "      <th>2</th>\n",
       "      <td>0</td>\n",
       "      <td>0.333333</td>\n",
       "    </tr>\n",
       "    <tr>\n",
       "      <th>3</th>\n",
       "      <td>0</td>\n",
       "      <td>0.500000</td>\n",
       "    </tr>\n",
       "    <tr>\n",
       "      <th>4</th>\n",
       "      <td>0</td>\n",
       "      <td>0.400000</td>\n",
       "    </tr>\n",
       "    <tr>\n",
       "      <th>...</th>\n",
       "      <td>...</td>\n",
       "      <td>...</td>\n",
       "    </tr>\n",
       "    <tr>\n",
       "      <th>10015</th>\n",
       "      <td>10000</td>\n",
       "      <td>0.670727</td>\n",
       "    </tr>\n",
       "    <tr>\n",
       "      <th>10016</th>\n",
       "      <td>10000</td>\n",
       "      <td>0.670760</td>\n",
       "    </tr>\n",
       "    <tr>\n",
       "      <th>10017</th>\n",
       "      <td>10000</td>\n",
       "      <td>0.670793</td>\n",
       "    </tr>\n",
       "    <tr>\n",
       "      <th>10018</th>\n",
       "      <td>10000</td>\n",
       "      <td>0.670825</td>\n",
       "    </tr>\n",
       "    <tr>\n",
       "      <th>10019</th>\n",
       "      <td>10000</td>\n",
       "      <td>0.670758</td>\n",
       "    </tr>\n",
       "  </tbody>\n",
       "</table>\n",
       "<p>10020 rows × 2 columns</p>\n",
       "</div>"
      ],
      "text/plain": [
       "       repetitions  probabilities\n",
       "0                0       1.000000\n",
       "1                0       0.500000\n",
       "2                0       0.333333\n",
       "3                0       0.500000\n",
       "4                0       0.400000\n",
       "...            ...            ...\n",
       "10015        10000       0.670727\n",
       "10016        10000       0.670760\n",
       "10017        10000       0.670793\n",
       "10018        10000       0.670825\n",
       "10019        10000       0.670758\n",
       "\n",
       "[10020 rows x 2 columns]"
      ]
     },
     "execution_count": 31,
     "metadata": {},
     "output_type": "execute_result"
    }
   ],
   "source": [
    "\n",
    "\n",
    "findings = []\n",
    "#A game function that will capture if whether a contestant wins when they change their choice.\n",
    "def game_function():\n",
    "    doors = [\"door1\", \"door2\", \"door3\"]\n",
    "    car_door = random.choice(doors)\n",
    "    geust_selected_door = random.choice(doors)\n",
    "    remaining_unselected_doors = [x for x in doors if x != geust_selected_door]\n",
    "    no_car_and_not_selected = [x for x in doors if x != car_door and x != geust_selected_door]\n",
    "    host_opened_door = random.choice(no_car_and_not_selected)\n",
    "    host_and_geust_selected = [host_opened_door] + [geust_selected_door]\n",
    "    #Simulating the geust always switching. \n",
    "    switched_selected_door = [x for x in doors if x not in host_and_geust_selected]\n",
    "    if switched_selected_door == [car_door]:\n",
    "        findings.append(1)\n",
    "    else:\n",
    "        findings.append(0)\n",
    "\n",
    "##Creating a data frame with tries and probabilities\n",
    "reps = []\n",
    "probabilities = []\n",
    "#repeating the outcome of the experiment numerous times so as to minimize the standard error\n",
    "for i in range(0, 10001, 20):\n",
    "    for j in range(20):\n",
    "        game_function()\n",
    "        probabilities.append(sum(findings)/len(findings))\n",
    "        reps.append(i)\n",
    "        data = {\n",
    "            \"repetitions\": reps,\n",
    "            \"probabilities\": probabilities\n",
    "        }\n",
    "    \n",
    "df = pd.DataFrame(data)\n",
    "df"
   ]
  },
  {
   "cell_type": "code",
   "execution_count": 32,
   "id": "2a69238b-1e47-4e92-ae98-72ae66028c61",
   "metadata": {},
   "outputs": [
    {
     "data": {
      "text/plain": [
       "Text(0.5, 1.0, 'Probability Visualization')"
      ]
     },
     "execution_count": 32,
     "metadata": {},
     "output_type": "execute_result"
    },
    {
     "data": {
      "image/png": "[encoded data removed]",
      "text/plain": [
       "<Figure size 640x480 with 1 Axes>"
      ]
     },
     "metadata": {},
     "output_type": "display_data"
    }
   ],
   "source": [
    "sns.lineplot(x = df[\"repetitions\"], y = df[\"probabilities\"], data = df)\n",
    "plt.title(\"Probability Visualization\")"
   ]
  },
  {
   "cell_type": "markdown",
   "id": "66cba041-18f7-4e30-8543-db1b95065a65",
   "metadata": {},
   "source": [
    "## Result\n",
    "In the beginning the probabability of opening a random door and getting a car is 1/3 (33%). When the presenter shows one door without a car and now there are two options options remaining, the probabaility of your first choice does not change and remains 1/3 (33%). On the other hand, he probability the car is behind the remaining door is (2/3) 67%. The contestant should always then make the right choice and change thier choice under such a scenario. The graph also shows with more reps, the probabability of winning gets 67%."
   ]
  }
 ],
 "metadata": {
  "kernelspec": {
   "display_name": "Python 3 (ipykernel)",
   "language": "python",
   "name": "python3"
  },
  "language_info": {
   "codemirror_mode": {
    "name": "ipython",
    "version": 3
   },
   "file_extension": ".py",
   "mimetype": "text/x-python",
   "name": "python",
   "nbconvert_exporter": "python",
   "pygments_lexer": "ipython3",
   "version": "3.12.1"
  }
 },
 "nbformat": 4,
 "nbformat_minor": 5
}
